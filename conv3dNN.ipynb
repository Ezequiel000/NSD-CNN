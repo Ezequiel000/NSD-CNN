{
 "cells": [
  {
   "cell_type": "code",
   "execution_count": 1,
   "metadata": {},
   "outputs": [],
   "source": [
    "import tensorflow as tf\n",
    "import h5py\n",
    "from tensorflow import keras\n",
    "import os\n",
    "FMRI_DIR_STND = 'C:/Users/007303173/Documents/Independent_Study_Project/nsd_data/standardized-betas/subj01'"
   ]
  },
  {
   "cell_type": "code",
   "execution_count": null,
   "metadata": {},
   "outputs": [],
   "source": [
    "\n",
    "\n",
    "# Load the hdf5 file\n",
    "with h5py.File(os.path.join(FMRI_DIR_STND,'standardized_betas.hdf5'), 'r') as f:\n",
    "    betas = f['betas'][:]\n",
    "    labels = f['labels'][:]\n",
    "\n",
    "# Reshape the features to 4-dimensional array\n",
    "betas = betas.reshape(-1, 83, 104, 81, 1)\n",
    "\n",
    "# Convert labels to binary labels (0 or 1)\n",
    "labels = (labels > 0).astype(int)\n",
    "\n",
    "# Build a convolutional neural network model\n",
    "model = keras.Sequential([\n",
    "    keras.layers.Conv3D(32, (3,3,3), activation='relu', input_shape=(83, 104, 81, 1)),\n",
    "    keras.layers.MaxPooling3D((2,2,2)),\n",
    "    keras.layers.Flatten(),\n",
    "    keras.layers.Dense(128, activation='relu'),\n",
    "    keras.layers.Dense(1, activation='sigmoid')\n",
    "])\n",
    "\n",
    "# Compile the model\n",
    "model.compile(optimizer='adam', loss='binary_crossentropy', metrics=['accuracy'])\n",
    "\n",
    "# Train the model\n",
    "model.fit(betas, labels, epochs=10)\n"
   ]
  }
 ],
 "metadata": {
  "kernelspec": {
   "display_name": "NSD_CNN",
   "language": "python",
   "name": "python3"
  },
  "language_info": {
   "codemirror_mode": {
    "name": "ipython",
    "version": 3
   },
   "file_extension": ".py",
   "mimetype": "text/x-python",
   "name": "python",
   "nbconvert_exporter": "python",
   "pygments_lexer": "ipython3",
   "version": "3.9.16"
  },
  "orig_nbformat": 4,
  "vscode": {
   "interpreter": {
    "hash": "d0eedda28e726887389b12365826c9a3c7088b0ff5b05732616b72a6f777d840"
   }
  }
 },
 "nbformat": 4,
 "nbformat_minor": 2
}
