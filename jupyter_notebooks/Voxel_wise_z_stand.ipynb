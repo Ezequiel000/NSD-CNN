{
 "cells": [
  {
   "cell_type": "markdown",
   "metadata": {
    "id": "k64Z8hXNy-sh"
   },
   "source": [
    "#Modules"
   ]
  },
  {
   "cell_type": "code",
   "execution_count": 3,
   "metadata": {
    "colab": {
     "base_uri": "https://localhost:8080/"
    },
    "id": "I_iftfZn2Ndo",
    "outputId": "027459b3-252a-4ca7-f877-ed9a6d90b882"
   },
   "outputs": [],
   "source": [
    "import os\n",
    "import numpy as np\n",
    "import pandas as pd\n",
    "import h5py\n",
    "import tensorflow as tf\n",
    "import keras\n",
    "LABLE_FILE = 'C:/Users/007303173/Documents/Independent_Study_Project/nsd_data/ppdata/subj01/behav/responses.tsv'\n",
    "FMRI_DIR = 'C:/Users/007303173/Documents/Independent_Study_Project/nsd_data/GLM-fmri-data/subj01'\n",
    "FMRI_DIR_STND = 'C:/Users/007303173/Documents/Independent_Study_Project/nsd_data/standardized-betas/subj01'\n",
    "TRIAL_PER_SESS = 750\n",
    "# !pip install line_profiler\n",
    "# %load_ext line_profiler"
   ]
  },
  {
   "cell_type": "markdown",
   "metadata": {},
   "source": [
    "Here we get the name of all files in the directory containgn the betas"
   ]
  },
  {
   "cell_type": "code",
   "execution_count": null,
   "metadata": {},
   "outputs": [],
   "source": [
    "  # returns a list of all files in the directory to be standardized\n",
    "def getDirFiles(FMRI_DIR):\n",
    "     files = [f for f in os.listdir(FMRI_DIR) if \n",
    "              os.path.isfile(os.path.join(FMRI_DIR, f)) and\n",
    "              f[-5:] == '.hdf5']\n",
    "     files.sort()                          \n",
    "     return files"
   ]
  },
  {
   "cell_type": "markdown",
   "metadata": {},
   "source": [
    "This shows each scan session is comprised of 750 scans. Each scan is of size (83, 104, 81)"
   ]
  },
  {
   "cell_type": "code",
   "execution_count": null,
   "metadata": {},
   "outputs": [],
   "source": [
    "files = getDirFiles(FMRI_DIR)\n",
    "f = files[0]\n",
    "print(f)\n",
    "f = os.path.join(FMRI_DIR, f)\n",
    "scan1=[]\n",
    "with h5py.File(f, \"r\") as file:\n",
    "    print(file.keys())\n",
    "    print(file['betas'].shape)\n",
    "    scan1 = np.array(file['betas'])\n",
    "print(scan1.shape[0])"
   ]
  },
  {
   "cell_type": "code",
   "execution_count": null,
   "metadata": {},
   "outputs": [],
   "source": [
    "print(scan1.max())\n",
    "print(scan1.min())\n",
    "print(scan1.mean(0)[59,27,63])\n",
    "mean = np.mean(scan1,axis=0)\n",
    "print(mean[59,27,63])\n"
   ]
  },
  {
   "cell_type": "code",
   "execution_count": 8,
   "metadata": {
    "colab": {
     "base_uri": "https://localhost:8080/",
     "height": 687
    },
    "id": "jtKW9A8gbRq9",
    "outputId": "cc67ec52-5d5f-4259-8c61-49cbc34d27ab"
   },
   "outputs": [
    {
     "name": "stdout",
     "output_type": "stream",
     "text": [
      "filtering labels...\n",
      "       SUBJECT  SESSION  RUN  TRIAL  73KID  10KID        TIME  ISOLD  \\\n",
      "0            1        1    1      1  46003    626    0.505082      0   \n",
      "1            1        1    1      2  61883   5013    0.505128      0   \n",
      "2            1        1    1      3    829   4850    0.505175      0   \n",
      "3            1        1    1      4  67574   8823    0.505221      0   \n",
      "4            1        1    1      5  16021   9538    0.505267      0   \n",
      "...        ...      ...  ...    ...    ...    ...         ...    ...   \n",
      "29995        1       40   12     58  13774   8984  262.629551      1   \n",
      "29996        1       40   12     59  66768   6026  262.629597      1   \n",
      "29997        1       40   12     60  53168   4841  262.629644      1   \n",
      "29998        1       40   12     61   1944   7323  262.629690      1   \n",
      "29999        1       40   12     62   5034   9972  262.629736      1   \n",
      "\n",
      "       ISCORRECT           RT  CHANGEMIND  MEMORYRECENT  MEMORYFIRST  \\\n",
      "0            1.0   803.529781         0.0           NaN          NaN   \n",
      "1            1.0   972.261383         0.0           NaN          NaN   \n",
      "2            1.0   742.351236         0.0           NaN          NaN   \n",
      "3            1.0   747.518479         0.0           NaN          NaN   \n",
      "4            1.0   547.422774         0.0           NaN          NaN   \n",
      "...          ...          ...         ...           ...          ...   \n",
      "29995        0.0  1275.300175         0.0       20963.0      21540.0   \n",
      "29996        1.0   661.379768         0.0          16.0      17622.0   \n",
      "29997        1.0   786.811781         0.0        9483.0      11912.0   \n",
      "29998        1.0   502.626801         0.0          83.0      12162.0   \n",
      "29999        0.0   883.122362         0.0       28968.0      29798.0   \n",
      "\n",
      "       ISOLDCURRENT  ISCORRECTCURRENT  TOTAL1  TOTAL2  BUTTON  MISSINGDATA  \n",
      "0                 0               1.0       1       0     1.0            0  \n",
      "1                 0               1.0       1       0     1.0            0  \n",
      "2                 0               1.0       1       0     1.0            0  \n",
      "3                 0               1.0       1       0     1.0            0  \n",
      "4                 0               1.0       1       0     1.0            0  \n",
      "...             ...               ...     ...     ...     ...          ...  \n",
      "29995             0               1.0       1       0     1.0            0  \n",
      "29996             1               1.0       0       1     2.0            0  \n",
      "29997             0               0.0       0       1     2.0            0  \n",
      "29998             1               1.0       0       1     2.0            0  \n",
      "29999             0               1.0       1       0     1.0            0  \n",
      "\n",
      "[30000 rows x 19 columns]\n",
      "       SUBJECT  SESSION  RUN  TRIAL  73KID  10KID        TIME  ISOLD  \\\n",
      "45           1        1    1     46  28279   4586    0.507350      1   \n",
      "68           1        1    2      6   3586   4135    0.510578      1   \n",
      "90           1        1    2     28  32626    436    0.511689      1   \n",
      "107          1        1    2     45  33484   5169    0.512569      1   \n",
      "121          1        1    2     59  15762   2757    0.513263      1   \n",
      "...        ...      ...  ...    ...    ...    ...         ...    ...   \n",
      "27745        1       37   12     58  16201   1257  246.729582      1   \n",
      "27746        1       37   12     59  55611   7495  246.729629      1   \n",
      "27747        1       37   12     60  69912   1190  246.729675      1   \n",
      "27748        1       37   12     61  67262   5181  246.729721      1   \n",
      "27749        1       37   12     62  37413   1596  246.729767      1   \n",
      "\n",
      "       ISCORRECT           RT  CHANGEMIND  MEMORYRECENT  MEMORYFIRST  \\\n",
      "45           1.0  1104.699282         0.0          28.0          NaN   \n",
      "68           1.0   782.411240         0.0           3.0          NaN   \n",
      "90           1.0   849.658853         0.0          45.0          NaN   \n",
      "107          1.0   903.947890         0.0          41.0          NaN   \n",
      "121          1.0   934.878815         0.0          15.0          NaN   \n",
      "...          ...          ...         ...           ...          ...   \n",
      "27745        1.0   575.265219         0.0          37.0        167.0   \n",
      "27746        1.0  1664.749701         0.0        3119.0       5135.0   \n",
      "27747        0.0  1775.520753         0.0       23762.0          NaN   \n",
      "27748        1.0   517.624946         0.0         135.0       3469.0   \n",
      "27749        1.0   590.508767         0.0          65.0        160.0   \n",
      "\n",
      "       ISOLDCURRENT  ISCORRECTCURRENT  TOTAL1  TOTAL2  BUTTON  MISSINGDATA  \n",
      "45                1               1.0       0       1     2.0            0  \n",
      "68                1               1.0       0       1     2.0            0  \n",
      "90                1               1.0       0       1     2.0            0  \n",
      "107               1               1.0       0       1     2.0            0  \n",
      "121               1               1.0       0       1     2.0            0  \n",
      "...             ...               ...     ...     ...     ...          ...  \n",
      "27745             1               1.0       0       1     2.0            0  \n",
      "27746             0               0.0       0       1     2.0            0  \n",
      "27747             0               1.0       1       0     1.0            0  \n",
      "27748             1               1.0       0       1     2.0            0  \n",
      "27749             1               1.0       0       1     2.0            0  \n",
      "\n",
      "[17905 rows x 19 columns]\n"
     ]
    },
    {
     "data": {
      "text/html": [
       "<div>\n",
       "<style scoped>\n",
       "    .dataframe tbody tr th:only-of-type {\n",
       "        vertical-align: middle;\n",
       "    }\n",
       "\n",
       "    .dataframe tbody tr th {\n",
       "        vertical-align: top;\n",
       "    }\n",
       "\n",
       "    .dataframe thead th {\n",
       "        text-align: right;\n",
       "    }\n",
       "</style>\n",
       "<table border=\"1\" class=\"dataframe\">\n",
       "  <thead>\n",
       "    <tr style=\"text-align: right;\">\n",
       "      <th></th>\n",
       "      <th>ISCORRECT</th>\n",
       "    </tr>\n",
       "  </thead>\n",
       "  <tbody>\n",
       "    <tr>\n",
       "      <th>45</th>\n",
       "      <td>1.0</td>\n",
       "    </tr>\n",
       "    <tr>\n",
       "      <th>68</th>\n",
       "      <td>1.0</td>\n",
       "    </tr>\n",
       "    <tr>\n",
       "      <th>90</th>\n",
       "      <td>1.0</td>\n",
       "    </tr>\n",
       "    <tr>\n",
       "      <th>107</th>\n",
       "      <td>1.0</td>\n",
       "    </tr>\n",
       "    <tr>\n",
       "      <th>121</th>\n",
       "      <td>1.0</td>\n",
       "    </tr>\n",
       "    <tr>\n",
       "      <th>...</th>\n",
       "      <td>...</td>\n",
       "    </tr>\n",
       "    <tr>\n",
       "      <th>27745</th>\n",
       "      <td>1.0</td>\n",
       "    </tr>\n",
       "    <tr>\n",
       "      <th>27746</th>\n",
       "      <td>1.0</td>\n",
       "    </tr>\n",
       "    <tr>\n",
       "      <th>27747</th>\n",
       "      <td>0.0</td>\n",
       "    </tr>\n",
       "    <tr>\n",
       "      <th>27748</th>\n",
       "      <td>1.0</td>\n",
       "    </tr>\n",
       "    <tr>\n",
       "      <th>27749</th>\n",
       "      <td>1.0</td>\n",
       "    </tr>\n",
       "  </tbody>\n",
       "</table>\n",
       "<p>17905 rows × 1 columns</p>\n",
       "</div>"
      ],
      "text/plain": [
       "       ISCORRECT\n",
       "45           1.0\n",
       "68           1.0\n",
       "90           1.0\n",
       "107          1.0\n",
       "121          1.0\n",
       "...          ...\n",
       "27745        1.0\n",
       "27746        1.0\n",
       "27747        0.0\n",
       "27748        1.0\n",
       "27749        1.0\n",
       "\n",
       "[17905 rows x 1 columns]"
      ]
     },
     "execution_count": 8,
     "metadata": {},
     "output_type": "execute_result"
    }
   ],
   "source": [
    "print('filtering labels...')\n",
    "res = pd.read_csv(LABLE_FILE, sep='\\t')\n",
    "res = pd.DataFrame(res)\n",
    "print(res)\n",
    "res = res.loc[res['SESSION'] <= 37]\n",
    "res = res.loc[res['ISOLD'] == 1]\n",
    "res = res.loc[res['ISCORRECT'] > -1]\n",
    "print(res)\n",
    "res = res.filter(items = ['ISCORRECT'] )\n",
    "res\n",
    "# for index, row in res.iterrows():\n",
    "#     print(index, row['ISCORRECT'])"
   ]
  },
  {
   "cell_type": "markdown",
   "metadata": {
    "id": "0HMZklVJzRXa"
   },
   "source": [
    "#Standardize all betas in the directory\n",
    "\n",
    "---\n",
    "\n"
   ]
  },
  {
   "cell_type": "code",
   "execution_count": 4,
   "metadata": {
    "id": "O6lS_DPXzRB6"
   },
   "outputs": [],
   "source": [
    "class StandardizeDirectory:\n",
    "  def __init__(self, loading_dir, dumping_dir, response_file):\n",
    "    self.ld = loading_dir\n",
    "    self.dd = dumping_dir\n",
    "    self.rs = response_file\n",
    "    self.index = 0\n",
    "    self.offset = TRIAL_PER_SESS\n",
    "    self.fmri_files = self.getDirFiles()\n",
    "    self.file_handlers ={}\n",
    "    self.open_files()\n",
    "\n",
    "  def __del__(self):\n",
    "    for value in self.file_handlers.items():\n",
    "      value.close()\n",
    "  # returns a list of all files in the directory to be standardized\n",
    "  def getDirFiles(self):\n",
    "     files = [f for f in os.listdir(self.ld) if \n",
    "              os.path.isfile(os.path.join(self.ld, f)) and\n",
    "              f[-5:] == '.hdf5']\n",
    "     files.sort()                          \n",
    "     return files               \n",
    "\n",
    "  def open_files(self): \n",
    "    for file_name in self.fmri_files:\n",
    "      path = os.path.join(FMRI_DIR, file_name)\n",
    "      self.file_handlers[file_name] = h5py.File(path, 'r')\n",
    "\n",
    "  # Input: path of the responses.tsv file\n",
    "  # Output: dictionary of indexes as keys with a corresponding class lable\n",
    "  # in put the sesh number to filter , pass the session as an argument \n",
    "  def get_labels(self):\n",
    "      print('filtering labels...')\n",
    "      res = pd.read_csv(self.rs, sep='\\t')\n",
    "      res = pd.DataFrame(res)\n",
    "      res = res.loc[res['SESSION'] <= 37]\n",
    "      res = res.loc[res['ISOLD'] == 1]\n",
    "      res = res.loc[res['ISCORRECT'] > -1]\n",
    "      res = res.filter(items = ['ISCORRECT'] )\n",
    "      # image_index = []\n",
    "      # labels = []\n",
    "      # for index, row in res.iterrows():\n",
    "      #   image_index.append(index)\n",
    "      #   labels.append(row['ISCORRECT'])\n",
    "      return (res)\n",
    "\n",
    "  def dump(self):\n",
    "    path = os.path.join(self.dd, FMRI_DIR_STND+\"/standardized_betas.hdf5\")\n",
    "    responses = self.get_labels()\n",
    "    with h5py.File(path, 'a') as betas_file:\n",
    "      \n",
    "      betas_file.create_dataset(\"labels\", data = labels)\n",
    "      betas = np.empty(shape = (0, 83, 104, 81))\n",
    "     \n",
    "\n",
    "      for session in self.file_handlers:\n",
    "        print('standardizing betas from session '+ session)\n",
    "        sesh = np.array(self.file_handlers[session]['betas'])\n",
    "        mean = sesh.mean(0)\n",
    "        std = sesh.std(0)\n",
    "        std = np.where(std == 0, 1, std)\n",
    "        standardized = (sesh-mean)/std\n",
    "        for index, row in responses: # this iters through tthe list of ID whick is the index of imaghes from 0-29999\n",
    "          if index >= self.offset:\n",
    "            self.index = self.offset\n",
    "            self.offset += TRIAL_PER_SESS\n",
    "            break\n",
    "          else:\n",
    "            expanded = standardized[(index- self.index)]\n",
    "            expanded = np.expand_dims(expanded, axis= 0)\n",
    "            betas = np.concatenate((betas, expanded), axis = 0)\n",
    "            responses = responses.drop(index)\n",
    "            \n",
    "          \n",
    "      betas_file.create_dataset(\"betas\", data = betas)  "
   ]
  },
  {
   "cell_type": "code",
   "execution_count": 5,
   "metadata": {
    "colab": {
     "base_uri": "https://localhost:8080/"
    },
    "id": "TosxhDOOMZjW",
    "outputId": "16001725-9d2d-432c-a268-1667fd4501ef"
   },
   "outputs": [
    {
     "name": "stdout",
     "output_type": "stream",
     "text": [
      "filtering labels...\n",
      "standardizing betas from session betas_session01.hdf5\n",
      "standardizing betas from session betas_session02.hdf5\n",
      "standardizing betas from session betas_session03.hdf5\n"
     ]
    },
    {
     "ename": "IndexError",
     "evalue": "index -1455 is out of bounds for axis 0 with size 750",
     "output_type": "error",
     "traceback": [
      "\u001b[1;31m---------------------------------------------------------------------------\u001b[0m",
      "\u001b[1;31mIndexError\u001b[0m                                Traceback (most recent call last)",
      "Cell \u001b[1;32mIn[5], line 2\u001b[0m\n\u001b[0;32m      1\u001b[0m st \u001b[38;5;241m=\u001b[39m StandardizeDirectory(FMRI_DIR, FMRI_DIR_STND, LABLE_FILE)\n\u001b[1;32m----> 2\u001b[0m \u001b[43mst\u001b[49m\u001b[38;5;241;43m.\u001b[39;49m\u001b[43mdump\u001b[49m\u001b[43m(\u001b[49m\u001b[43m)\u001b[49m\n",
      "Cell \u001b[1;32mIn[4], line 62\u001b[0m, in \u001b[0;36mStandardizeDirectory.dump\u001b[1;34m(self)\u001b[0m\n\u001b[0;32m     60\u001b[0m \u001b[38;5;28;01mfor\u001b[39;00m index \u001b[38;5;129;01min\u001b[39;00m betas_ID: \u001b[38;5;66;03m# this iters through tthe list of ID whic is the index of imaghes from 0-29999\u001b[39;00m\n\u001b[0;32m     61\u001b[0m   \u001b[38;5;28;01mif\u001b[39;00m index \u001b[38;5;241m<\u001b[39m \u001b[38;5;28mself\u001b[39m\u001b[38;5;241m.\u001b[39mindex:\n\u001b[1;32m---> 62\u001b[0m     betas\u001b[38;5;241m.\u001b[39mappend(\u001b[43mstandardized\u001b[49m\u001b[43m[\u001b[49m\u001b[43m(\u001b[49m\u001b[43mindex\u001b[49m\u001b[38;5;241;43m-\u001b[39;49m\u001b[38;5;28;43mself\u001b[39;49m\u001b[38;5;241;43m.\u001b[39;49m\u001b[43mindex\u001b[49m\u001b[43m)\u001b[49m\u001b[43m]\u001b[49m)\n\u001b[0;32m     63\u001b[0m   \u001b[38;5;28;01melse\u001b[39;00m:\n\u001b[0;32m     64\u001b[0m     \u001b[38;5;28mself\u001b[39m\u001b[38;5;241m.\u001b[39mindex \u001b[38;5;241m+\u001b[39m\u001b[38;5;241m=\u001b[39m TRIAL_PER_SESS\n",
      "\u001b[1;31mIndexError\u001b[0m: index -1455 is out of bounds for axis 0 with size 750"
     ]
    }
   ],
   "source": [
    "st = StandardizeDirectory(FMRI_DIR, FMRI_DIR_STND, LABLE_FILE)\n",
    "st.dump()"
   ]
  }
 ],
 "metadata": {
  "colab": {
   "collapsed_sections": [
    "6H1EipqUJAYS",
    "hdrpCkvYmEIr"
   ],
   "machine_shape": "hm",
   "provenance": []
  },
  "gpuClass": "standard",
  "kernelspec": {
   "display_name": "NSD_CNN",
   "language": "python",
   "name": "python3"
  },
  "language_info": {
   "codemirror_mode": {
    "name": "ipython",
    "version": 3
   },
   "file_extension": ".py",
   "mimetype": "text/x-python",
   "name": "python",
   "nbconvert_exporter": "python",
   "pygments_lexer": "ipython3",
   "version": "3.9.16"
  },
  "vscode": {
   "interpreter": {
    "hash": "d0eedda28e726887389b12365826c9a3c7088b0ff5b05732616b72a6f777d840"
   }
  }
 },
 "nbformat": 4,
 "nbformat_minor": 1
}
