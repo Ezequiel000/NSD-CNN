{
 "cells": [
  {
   "cell_type": "markdown",
   "metadata": {
    "id": "R8sq6jz4Cghk"
   },
   "source": [
    "# Preparing the data"
   ]
  },
  {
   "cell_type": "code",
   "execution_count": 1,
   "metadata": {
    "executionInfo": {
     "elapsed": 2558,
     "status": "ok",
     "timestamp": 1674767789094,
     "user": {
      "displayName": "Ezequiel Hernandez",
      "userId": "10229188064205579760"
     },
     "user_tz": 480
    },
    "id": "qlxl2yW_JEWt"
   },
   "outputs": [
    {
     "ename": "ModuleNotFoundError",
     "evalue": "No module named 'tensorflow'",
     "output_type": "error",
     "traceback": [
      "\u001b[1;31m---------------------------------------------------------------------------\u001b[0m",
      "\u001b[1;31mModuleNotFoundError\u001b[0m                       Traceback (most recent call last)",
      "\u001b[1;32mC:\\Users\\007303~1\\AppData\\Local\\Temp/ipykernel_7188/383230041.py\u001b[0m in \u001b[0;36m<module>\u001b[1;34m\u001b[0m\n\u001b[1;32m----> 1\u001b[1;33m \u001b[1;32mimport\u001b[0m \u001b[0mtensorflow\u001b[0m \u001b[1;32mas\u001b[0m \u001b[0mtf\u001b[0m\u001b[1;33m\u001b[0m\u001b[1;33m\u001b[0m\u001b[0m\n\u001b[0m\u001b[0;32m      2\u001b[0m \u001b[1;32mimport\u001b[0m \u001b[0mtensorflow_datasets\u001b[0m \u001b[1;32mas\u001b[0m \u001b[0mtfds\u001b[0m\u001b[1;33m\u001b[0m\u001b[1;33m\u001b[0m\u001b[0m\n\u001b[0;32m      3\u001b[0m \u001b[1;32mimport\u001b[0m \u001b[0mnumpy\u001b[0m \u001b[1;32mas\u001b[0m \u001b[0mnp\u001b[0m\u001b[1;33m\u001b[0m\u001b[1;33m\u001b[0m\u001b[0m\n\u001b[0;32m      4\u001b[0m \u001b[1;32mimport\u001b[0m \u001b[0mdatetime\u001b[0m\u001b[1;33m\u001b[0m\u001b[1;33m\u001b[0m\u001b[0m\n",
      "\u001b[1;31mModuleNotFoundError\u001b[0m: No module named 'tensorflow'"
     ]
    }
   ],
   "source": [
    "import tensorflow as tf\n",
    "import tensorflow_datasets as tfds\n",
    "import numpy as np\n",
    "import datetime"
   ]
  },
  {
   "cell_type": "code",
   "execution_count": 3,
   "metadata": {
    "colab": {
     "base_uri": "https://localhost:8080/"
    },
    "executionInfo": {
     "elapsed": 371,
     "status": "ok",
     "timestamp": 1674767789460,
     "user": {
      "displayName": "Ezequiel Hernandez",
      "userId": "10229188064205579760"
     },
     "user_tz": 480
    },
    "id": "lFKVQP75QcE1",
    "outputId": "3ecf2e22-789f-4d1a-be4f-df0c6dd38593"
   },
   "outputs": [
    {
     "name": "stdout",
     "output_type": "stream",
     "text": [
      "--2023-01-26 21:16:29--  http://yann.lecun.com/exdb/mnist/mnist.npz\n",
      "Resolving yann.lecun.com (yann.lecun.com)... 104.21.29.36, 172.67.171.76, 2606:4700:3036::ac43:ab4c, ...\n",
      "Connecting to yann.lecun.com (yann.lecun.com)|104.21.29.36|:80... connected.\n",
      "HTTP request sent, awaiting response... 404 Not Found\n",
      "2023-01-26 21:16:29 ERROR 404: Not Found.\n",
      "\n"
     ]
    }
   ],
   "source": [
    "!wget -O mnist.npz http://yann.lecun.com/exdb/mnist/mnist.npz\n"
   ]
  },
  {
   "cell_type": "code",
   "execution_count": 4,
   "metadata": {
    "executionInfo": {
     "elapsed": 4,
     "status": "ok",
     "timestamp": 1674767789460,
     "user": {
      "displayName": "Ezequiel Hernandez",
      "userId": "10229188064205579760"
     },
     "user_tz": 480
    },
    "id": "2YRW40NfONVP"
   },
   "outputs": [],
   "source": [
    "BUFFER_SIZE = 70_000\n",
    "BATCH_SIZE = 128\n",
    "NUM_EPOCHS = 20"
   ]
  },
  {
   "cell_type": "code",
   "execution_count": 5,
   "metadata": {
    "colab": {
     "base_uri": "https://localhost:8080/",
     "height": 105,
     "referenced_widgets": [
      "6664525f178b4ec89947a11fcec25b5f",
      "d85a5e3e37174af587aa52763c17bee2",
      "f1a0428c25cb4386839da293c4a89d42",
      "319f09a3c255420fa7b7b1a5ab4d126d",
      "b70b33607fa8435b8d7d87e2b5c12578",
      "2776b7c6667d4f228ca99a44915da6ba",
      "89927c3fe4a84cd6aa24ea063b3d3773",
      "c128d295868b43f6b743107cd1c4dc48",
      "f8c1d3985e3b49c7bee588ca047187a3",
      "6cde8879fd1742e1aa6db04ad7fe297f",
      "e8eb8c0e354d4ba9a31d3ea8054545c0"
     ]
    },
    "executionInfo": {
     "elapsed": 4153,
     "status": "ok",
     "timestamp": 1674767793611,
     "user": {
      "displayName": "Ezequiel Hernandez",
      "userId": "10229188064205579760"
     },
     "user_tz": 480
    },
    "id": "jl0GPwwR7hzs",
    "outputId": "12edc7e5-2ea5-439c-d62a-5457363533bb"
   },
   "outputs": [
    {
     "name": "stdout",
     "output_type": "stream",
     "text": [
      "Downloading and preparing dataset 11.06 MiB (download: 11.06 MiB, generated: 21.00 MiB, total: 32.06 MiB) to /root/tensorflow_datasets/mnist/3.0.1...\n"
     ]
    },
    {
     "data": {
      "application/vnd.jupyter.widget-view+json": {
       "model_id": "6664525f178b4ec89947a11fcec25b5f",
       "version_major": 2,
       "version_minor": 0
      },
      "text/plain": [
       "Dl Completed...:   0%|          | 0/5 [00:00<?, ? file/s]"
      ]
     },
     "metadata": {},
     "output_type": "display_data"
    },
    {
     "name": "stdout",
     "output_type": "stream",
     "text": [
      "Dataset mnist downloaded and prepared to /root/tensorflow_datasets/mnist/3.0.1. Subsequent calls will reuse this data.\n"
     ]
    }
   ],
   "source": [
    "mnist_dataset, mnist_info =tfds.load(name='mnist', with_info=True, as_supervised=True)"
   ]
  },
  {
   "cell_type": "code",
   "execution_count": 6,
   "metadata": {
    "executionInfo": {
     "elapsed": 225,
     "status": "ok",
     "timestamp": 1674767793830,
     "user": {
      "displayName": "Ezequiel Hernandez",
      "userId": "10229188064205579760"
     },
     "user_tz": 480
    },
    "id": "oYwa9glXOZUd"
   },
   "outputs": [],
   "source": [
    "mnist_train, mnist_test = mnist_dataset['train'], mnist_dataset['test']"
   ]
  },
  {
   "cell_type": "markdown",
   "metadata": {
    "id": "gXAn96IC9pZn"
   },
   "source": [
    "The scale method will make all values be between 0 and 1"
   ]
  },
  {
   "cell_type": "code",
   "execution_count": 7,
   "metadata": {
    "executionInfo": {
     "elapsed": 223,
     "status": "ok",
     "timestamp": 1674767793830,
     "user": {
      "displayName": "Ezequiel Hernandez",
      "userId": "10229188064205579760"
     },
     "user_tz": 480
    },
    "id": "G_zQ2oQD8VY2"
   },
   "outputs": [],
   "source": [
    "def scale(image, label):\n",
    "  image= tf.cast(image, tf.float32)\n",
    "  image /= 225.\n",
    "  return image, label"
   ]
  },
  {
   "cell_type": "code",
   "execution_count": 8,
   "metadata": {
    "executionInfo": {
     "elapsed": 9,
     "status": "ok",
     "timestamp": 1674767793830,
     "user": {
      "displayName": "Ezequiel Hernandez",
      "userId": "10229188064205579760"
     },
     "user_tz": 480
    },
    "id": "zGVPl2aD8v1I"
   },
   "outputs": [],
   "source": [
    "train_and_validation_data = mnist_train.map(scale)\n",
    "test_data = mnist_test.map(scale)"
   ]
  },
  {
   "cell_type": "markdown",
   "metadata": {
    "id": "uQpJnc22_uU-"
   },
   "source": [
    "Split the data for testing and validation"
   ]
  },
  {
   "cell_type": "code",
   "execution_count": 9,
   "metadata": {
    "executionInfo": {
     "elapsed": 10,
     "status": "ok",
     "timestamp": 1674767793831,
     "user": {
      "displayName": "Ezequiel Hernandez",
      "userId": "10229188064205579760"
     },
     "user_tz": 480
    },
    "id": "Yb7TN8Km9hH-"
   },
   "outputs": [],
   "source": [
    "num_validation_samples = 0.1 * mnist_info.splits['train'].num_examples\n",
    "num_validation_samples = tf.cast(num_validation_samples, tf.int64)"
   ]
  },
  {
   "cell_type": "code",
   "execution_count": 10,
   "metadata": {
    "executionInfo": {
     "elapsed": 9,
     "status": "ok",
     "timestamp": 1674767793831,
     "user": {
      "displayName": "Ezequiel Hernandez",
      "userId": "10229188064205579760"
     },
     "user_tz": 480
    },
    "id": "PAYxl68R_BTD"
   },
   "outputs": [],
   "source": [
    "num_test_samples = 0.1 * mnist_info.splits['train'].num_examples\n",
    "num_test_samples= tf.cast(num_test_samples, tf.int64)"
   ]
  },
  {
   "cell_type": "markdown",
   "metadata": {
    "id": "GpUxBk7nAx22"
   },
   "source": [
    "BUFFER_SIZE is the size opf the batch being shuffles in this case its the entire dataset"
   ]
  },
  {
   "cell_type": "code",
   "execution_count": 11,
   "metadata": {
    "executionInfo": {
     "elapsed": 10,
     "status": "ok",
     "timestamp": 1674767793832,
     "user": {
      "displayName": "Ezequiel Hernandez",
      "userId": "10229188064205579760"
     },
     "user_tz": 480
    },
    "id": "zR62XK5z_YSl"
   },
   "outputs": [],
   "source": [
    "train_and_validation_data = train_and_validation_data.shuffle(BUFFER_SIZE)"
   ]
  },
  {
   "cell_type": "code",
   "execution_count": 12,
   "metadata": {
    "executionInfo": {
     "elapsed": 9,
     "status": "ok",
     "timestamp": 1674767793832,
     "user": {
      "displayName": "Ezequiel Hernandez",
      "userId": "10229188064205579760"
     },
     "user_tz": 480
    },
    "id": "tmLMg_j6__Sb"
   },
   "outputs": [],
   "source": [
    "train_data = train_and_validation_data.skip(num_validation_samples)\n",
    "validation_data = train_and_validation_data.take(num_validation_samples)"
   ]
  },
  {
   "cell_type": "code",
   "execution_count": 13,
   "metadata": {
    "executionInfo": {
     "elapsed": 10,
     "status": "ok",
     "timestamp": 1674767793833,
     "user": {
      "displayName": "Ezequiel Hernandez",
      "userId": "10229188064205579760"
     },
     "user_tz": 480
    },
    "id": "uImAiPW3AIIi"
   },
   "outputs": [],
   "source": [
    "train_data = train_data.batch(BATCH_SIZE)"
   ]
  },
  {
   "cell_type": "markdown",
   "metadata": {
    "id": "H5tAiNodBkIs"
   },
   "source": [
    "The validation and test sets dont need to be batched. Since we dont backward propiagate on them, however the model expects them to be batched"
   ]
  },
  {
   "cell_type": "code",
   "execution_count": 14,
   "metadata": {
    "executionInfo": {
     "elapsed": 10,
     "status": "ok",
     "timestamp": 1674767793833,
     "user": {
      "displayName": "Ezequiel Hernandez",
      "userId": "10229188064205579760"
     },
     "user_tz": 480
    },
    "id": "z9FaZLDpBjc8"
   },
   "outputs": [],
   "source": [
    "validation_data = validation_data.batch(num_validation_samples)\n",
    "test_data = test_data.batch(num_test_samples)"
   ]
  },
  {
   "cell_type": "markdown",
   "metadata": {
    "id": "d1u_BLpHCmUy"
   },
   "source": [
    "# Creating the Model"
   ]
  },
  {
   "cell_type": "markdown",
   "metadata": {
    "id": "8HO7F4k0DxL0"
   },
   "source": [
    "1.  The fisrt layer has a 5x5 kernel it produces 50 feature maps.\n",
    "2.  The second layer has a 3x3 kernel it produces 50 feature maps\n",
    "3.  The dense layer output is 10\n",
    "\n"
   ]
  },
  {
   "cell_type": "code",
   "execution_count": 15,
   "metadata": {
    "executionInfo": {
     "elapsed": 169,
     "status": "ok",
     "timestamp": 1674767793992,
     "user": {
      "displayName": "Ezequiel Hernandez",
      "userId": "10229188064205579760"
     },
     "user_tz": 480
    },
    "id": "8M30atHaCtX8"
   },
   "outputs": [],
   "source": [
    "model = tf.keras.Sequential([\n",
    "    tf.keras.layers.Conv2D(50, 5, activation = 'relu', input_shape = (28,28,1)),\n",
    "    tf.keras.layers.MaxPooling2D(pool_size = (2,2)),\n",
    "    tf.keras.layers.Conv2D(50, 3, activation = 'relu'),\n",
    "    tf.keras.layers.MaxPooling2D(pool_size = (2,2)),\n",
    "    tf.keras.layers.Flatten(),\n",
    "    tf.keras.layers.Dense(10)\n",
    "])"
   ]
  },
  {
   "cell_type": "code",
   "execution_count": 16,
   "metadata": {
    "colab": {
     "base_uri": "https://localhost:8080/"
    },
    "executionInfo": {
     "elapsed": 212,
     "status": "ok",
     "timestamp": 1674767794202,
     "user": {
      "displayName": "Ezequiel Hernandez",
      "userId": "10229188064205579760"
     },
     "user_tz": 480
    },
    "id": "OQUAzkH0EVz5",
    "outputId": "f89b12c7-7a5c-471d-c701-4c4e44c5ad74"
   },
   "outputs": [
    {
     "name": "stdout",
     "output_type": "stream",
     "text": [
      "Model: \"sequential\"\n",
      "___________________________________________________________________________\n",
      " Layer (type)                    Output Shape                  Param #     \n",
      "===========================================================================\n",
      " conv2d (Conv2D)                 (None, 24, 24, 50)            1300        \n",
      "                                                                           \n",
      " max_pooling2d (MaxPooling2D)    (None, 12, 12, 50)            0           \n",
      "                                                                           \n",
      " conv2d_1 (Conv2D)               (None, 10, 10, 50)            22550       \n",
      "                                                                           \n",
      " max_pooling2d_1 (MaxPooling2D)  (None, 5, 5, 50)              0           \n",
      "                                                                           \n",
      " flatten (Flatten)               (None, 1250)                  0           \n",
      "                                                                           \n",
      " dense (Dense)                   (None, 10)                    12510       \n",
      "                                                                           \n",
      "===========================================================================\n",
      "Total params: 36,360\n",
      "Trainable params: 36,360\n",
      "Non-trainable params: 0\n",
      "___________________________________________________________________________\n"
     ]
    }
   ],
   "source": [
    "model.summary(line_length = 75)"
   ]
  },
  {
   "cell_type": "code",
   "execution_count": 17,
   "metadata": {
    "executionInfo": {
     "elapsed": 10,
     "status": "ok",
     "timestamp": 1674767794202,
     "user": {
      "displayName": "Ezequiel Hernandez",
      "userId": "10229188064205579760"
     },
     "user_tz": 480
    },
    "id": "gAYIG0tzGt1a"
   },
   "outputs": [],
   "source": [
    "loss_fn = tf.keras.losses.SparseCategoricalCrossentropy(from_logits = True)"
   ]
  },
  {
   "cell_type": "code",
   "execution_count": 18,
   "metadata": {
    "executionInfo": {
     "elapsed": 10,
     "status": "ok",
     "timestamp": 1674767794203,
     "user": {
      "displayName": "Ezequiel Hernandez",
      "userId": "10229188064205579760"
     },
     "user_tz": 480
    },
    "id": "efghUjBLHD6U"
   },
   "outputs": [],
   "source": [
    "model.compile(optimizer='adam', loss=loss_fn, metrics=['accuracy'])"
   ]
  },
  {
   "cell_type": "code",
   "execution_count": 19,
   "metadata": {
    "executionInfo": {
     "elapsed": 10,
     "status": "ok",
     "timestamp": 1674767794203,
     "user": {
      "displayName": "Ezequiel Hernandez",
      "userId": "10229188064205579760"
     },
     "user_tz": 480
    },
    "id": "oXSZS5AxIMQN"
   },
   "outputs": [],
   "source": [
    "early_stopping =tf.keras.callbacks.EarlyStopping(\n",
    "  monitor= 'val_loss',\n",
    "  mode = 'auto',\n",
    "  min_delta = 0, \n",
    "  patience = 2,\n",
    "  verbose = 0,\n",
    "  restore_best_weights=True\n",
    ")"
   ]
  },
  {
   "cell_type": "code",
   "execution_count": null,
   "metadata": {
    "id": "BhTeysfD_5Yx"
   },
   "outputs": [],
   "source": [
    "log_dir = \"logs\\\\fit\\\\\" + datetime.datetime.now().strftime(\"%Y%m%d-%H%M%S\")\n",
    "tensorboard_callback = tf.keras.callbacks.TensorBoard(log_dir=log_dir,histogram_freq=1)"
   ]
  },
  {
   "cell_type": "code",
   "execution_count": 20,
   "metadata": {
    "colab": {
     "base_uri": "https://localhost:8080/"
    },
    "executionInfo": {
     "elapsed": 127637,
     "status": "ok",
     "timestamp": 1674767921830,
     "user": {
      "displayName": "Ezequiel Hernandez",
      "userId": "10229188064205579760"
     },
     "user_tz": 480
    },
    "id": "fX0O-FeYI2CZ",
    "outputId": "7df8ec0c-3b86-42e7-a641-d1e5f419183e"
   },
   "outputs": [
    {
     "name": "stdout",
     "output_type": "stream",
     "text": [
      "Epoch 1/20\n",
      "422/422 - 17s - loss: 0.2595 - accuracy: 0.9263 - val_loss: 0.0730 - val_accuracy: 0.9778 - 17s/epoch - 39ms/step\n",
      "Epoch 2/20\n",
      "422/422 - 5s - loss: 0.0687 - accuracy: 0.9794 - val_loss: 0.0568 - val_accuracy: 0.9828 - 5s/epoch - 11ms/step\n",
      "Epoch 3/20\n",
      "422/422 - 5s - loss: 0.0509 - accuracy: 0.9845 - val_loss: 0.0342 - val_accuracy: 0.9888 - 5s/epoch - 12ms/step\n",
      "Epoch 4/20\n",
      "422/422 - 5s - loss: 0.0404 - accuracy: 0.9877 - val_loss: 0.0323 - val_accuracy: 0.9897 - 5s/epoch - 12ms/step\n",
      "Epoch 5/20\n",
      "422/422 - 7s - loss: 0.0354 - accuracy: 0.9888 - val_loss: 0.0289 - val_accuracy: 0.9925 - 7s/epoch - 16ms/step\n",
      "Epoch 6/20\n",
      "422/422 - 7s - loss: 0.0297 - accuracy: 0.9909 - val_loss: 0.0202 - val_accuracy: 0.9945 - 7s/epoch - 16ms/step\n",
      "Epoch 7/20\n",
      "422/422 - 6s - loss: 0.0255 - accuracy: 0.9917 - val_loss: 0.0198 - val_accuracy: 0.9922 - 6s/epoch - 15ms/step\n",
      "Epoch 8/20\n",
      "422/422 - 5s - loss: 0.0224 - accuracy: 0.9926 - val_loss: 0.0226 - val_accuracy: 0.9937 - 5s/epoch - 12ms/step\n",
      "Epoch 9/20\n",
      "422/422 - 5s - loss: 0.0198 - accuracy: 0.9935 - val_loss: 0.0153 - val_accuracy: 0.9953 - 5s/epoch - 13ms/step\n",
      "Epoch 10/20\n",
      "422/422 - 6s - loss: 0.0183 - accuracy: 0.9943 - val_loss: 0.0149 - val_accuracy: 0.9955 - 6s/epoch - 13ms/step\n",
      "Epoch 11/20\n",
      "422/422 - 8s - loss: 0.0162 - accuracy: 0.9946 - val_loss: 0.0116 - val_accuracy: 0.9962 - 8s/epoch - 19ms/step\n",
      "Epoch 12/20\n",
      "422/422 - 8s - loss: 0.0150 - accuracy: 0.9955 - val_loss: 0.0123 - val_accuracy: 0.9955 - 8s/epoch - 18ms/step\n",
      "Epoch 13/20\n",
      "422/422 - 5s - loss: 0.0135 - accuracy: 0.9956 - val_loss: 0.0089 - val_accuracy: 0.9970 - 5s/epoch - 11ms/step\n",
      "Epoch 14/20\n",
      "422/422 - 5s - loss: 0.0113 - accuracy: 0.9965 - val_loss: 0.0097 - val_accuracy: 0.9977 - 5s/epoch - 12ms/step\n",
      "Epoch 15/20\n",
      "422/422 - 5s - loss: 0.0103 - accuracy: 0.9968 - val_loss: 0.0068 - val_accuracy: 0.9982 - 5s/epoch - 12ms/step\n",
      "Epoch 16/20\n",
      "422/422 - 5s - loss: 0.0087 - accuracy: 0.9974 - val_loss: 0.0072 - val_accuracy: 0.9975 - 5s/epoch - 12ms/step\n",
      "Epoch 17/20\n",
      "422/422 - 5s - loss: 0.0070 - accuracy: 0.9981 - val_loss: 0.0083 - val_accuracy: 0.9973 - 5s/epoch - 11ms/step\n"
     ]
    },
    {
     "data": {
      "text/plain": [
       "<keras.callbacks.History at 0x7f4691bb5e50>"
      ]
     },
     "execution_count": 20,
     "metadata": {},
     "output_type": "execute_result"
    }
   ],
   "source": [
    "model.fit(\n",
    "    train_data,\n",
    "    epochs = NUM_EPOCHS,\n",
    "    callbacks = [tensorboard_callback,early_stopping],\n",
    "    validation_data =validation_data,\n",
    "    verbose=2\n",
    ")"
   ]
  },
  {
   "cell_type": "markdown",
   "metadata": {
    "id": "sdO5nIPr2Pnu"
   },
   "source": [
    "# Testing the Model"
   ]
  },
  {
   "cell_type": "code",
   "execution_count": 21,
   "metadata": {
    "colab": {
     "base_uri": "https://localhost:8080/"
    },
    "executionInfo": {
     "elapsed": 1164,
     "status": "ok",
     "timestamp": 1674768045348,
     "user": {
      "displayName": "Ezequiel Hernandez",
      "userId": "10229188064205579760"
     },
     "user_tz": 480
    },
    "id": "hozqVZhT20t3",
    "outputId": "0013de87-6163-4089-867a-88de34f0f706"
   },
   "outputs": [
    {
     "name": "stdout",
     "output_type": "stream",
     "text": [
      "2/2 [==============================] - 1s 653ms/step - loss: 0.0271 - accuracy: 0.9918\n"
     ]
    }
   ],
   "source": [
    "test_loss, test_accuracy =  model.evaluate(test_data)"
   ]
  },
  {
   "cell_type": "code",
   "execution_count": 22,
   "metadata": {
    "colab": {
     "base_uri": "https://localhost:8080/"
    },
    "executionInfo": {
     "elapsed": 179,
     "status": "ok",
     "timestamp": 1674768047103,
     "user": {
      "displayName": "Ezequiel Hernandez",
      "userId": "10229188064205579760"
     },
     "user_tz": 480
    },
    "id": "CFtG1zKq2940",
    "outputId": "706edba5-8b00-430d-ae13-4dda8f419a48"
   },
   "outputs": [
    {
     "name": "stdout",
     "output_type": "stream",
     "text": [
      "Test loss: 0.0271. Test accuracy:  99.18%\n"
     ]
    }
   ],
   "source": [
    "print('Test loss: {0:.4f}. Test accuracy: {1: .2f}%'.format(test_loss, test_accuracy*100.))"
   ]
  },
  {
   "cell_type": "markdown",
   "metadata": {
    "id": "Dg8RERHt3d6P"
   },
   "source": [
    "Plotting Images and results "
   ]
  },
  {
   "cell_type": "code",
   "execution_count": 1,
   "metadata": {
    "executionInfo": {
     "elapsed": 4,
     "status": "ok",
     "timestamp": 1674766767133,
     "user": {
      "displayName": "Ezequiel Hernandez",
      "userId": "10229188064205579760"
     },
     "user_tz": 480
    },
    "id": "9xI_9ygH3bYE"
   },
   "outputs": [],
   "source": [
    "import matplotlib.pyplot as plt\n",
    "import numpy as np"
   ]
  },
  {
   "cell_type": "markdown",
   "metadata": {
    "id": "tQbJI9_M4Sfu"
   },
   "source": [
    "Split the test_data into 2 arrays, containing the images and correponding labels"
   ]
  },
  {
   "cell_type": "code",
   "execution_count": 23,
   "metadata": {
    "executionInfo": {
     "elapsed": 499,
     "status": "ok",
     "timestamp": 1674768070208,
     "user": {
      "displayName": "Ezequiel Hernandez",
      "userId": "10229188064205579760"
     },
     "user_tz": 480
    },
    "id": "V1cdpQO33rBw"
   },
   "outputs": [],
   "source": [
    "for images, labels in test_data.take(1):\n",
    "    images_test = images.numpy()\n",
    "    labels_test = labels.numpy()"
   ]
  },
  {
   "cell_type": "markdown",
   "metadata": {
    "id": "VEgt_DUT4pQV"
   },
   "source": [
    "Reshape the images into 28X28 form, suitable for matplotlib (original dimensions: (28x28x1)"
   ]
  },
  {
   "cell_type": "code",
   "execution_count": 24,
   "metadata": {
    "colab": {
     "base_uri": "https://localhost:8080/",
     "height": 373
    },
    "executionInfo": {
     "elapsed": 424,
     "status": "error",
     "timestamp": 1674768073171,
     "user": {
      "displayName": "Ezequiel Hernandez",
      "userId": "10229188064205579760"
     },
     "user_tz": 480
    },
    "id": "YDEV4KWM4o6p",
    "outputId": "134d471a-8fad-4a32-a03f-caebe49b1f7f"
   },
   "outputs": [
    {
     "ename": "ValueError",
     "evalue": "ignored",
     "output_type": "error",
     "traceback": [
      "\u001b[0;31m---------------------------------------------------------------------------\u001b[0m",
      "\u001b[0;31mValueError\u001b[0m                                Traceback (most recent call last)",
      "\u001b[0;32m<ipython-input-24-108c990837bf>\u001b[0m in \u001b[0;36m<module>\u001b[0;34m\u001b[0m\n\u001b[0;32m----> 1\u001b[0;31m \u001b[0mimages_plot\u001b[0m \u001b[0;34m=\u001b[0m \u001b[0mnp\u001b[0m\u001b[0;34m.\u001b[0m\u001b[0mreshape\u001b[0m\u001b[0;34m(\u001b[0m\u001b[0mimages_test\u001b[0m\u001b[0;34m,\u001b[0m \u001b[0;34m(\u001b[0m\u001b[0;36m10000\u001b[0m\u001b[0;34m,\u001b[0m\u001b[0;36m28\u001b[0m\u001b[0;34m,\u001b[0m\u001b[0;36m28\u001b[0m\u001b[0;34m)\u001b[0m\u001b[0;34m)\u001b[0m\u001b[0;34m\u001b[0m\u001b[0;34m\u001b[0m\u001b[0m\n\u001b[0m",
      "\u001b[0;32m<__array_function__ internals>\u001b[0m in \u001b[0;36mreshape\u001b[0;34m(*args, **kwargs)\u001b[0m\n",
      "\u001b[0;32m/usr/local/lib/python3.8/dist-packages/numpy/core/fromnumeric.py\u001b[0m in \u001b[0;36mreshape\u001b[0;34m(a, newshape, order)\u001b[0m\n\u001b[1;32m    296\u001b[0m            [5, 6]])\n\u001b[1;32m    297\u001b[0m     \"\"\"\n\u001b[0;32m--> 298\u001b[0;31m     \u001b[0;32mreturn\u001b[0m \u001b[0m_wrapfunc\u001b[0m\u001b[0;34m(\u001b[0m\u001b[0ma\u001b[0m\u001b[0;34m,\u001b[0m \u001b[0;34m'reshape'\u001b[0m\u001b[0;34m,\u001b[0m \u001b[0mnewshape\u001b[0m\u001b[0;34m,\u001b[0m \u001b[0morder\u001b[0m\u001b[0;34m=\u001b[0m\u001b[0morder\u001b[0m\u001b[0;34m)\u001b[0m\u001b[0;34m\u001b[0m\u001b[0;34m\u001b[0m\u001b[0m\n\u001b[0m\u001b[1;32m    299\u001b[0m \u001b[0;34m\u001b[0m\u001b[0m\n\u001b[1;32m    300\u001b[0m \u001b[0;34m\u001b[0m\u001b[0m\n",
      "\u001b[0;32m/usr/local/lib/python3.8/dist-packages/numpy/core/fromnumeric.py\u001b[0m in \u001b[0;36m_wrapfunc\u001b[0;34m(obj, method, *args, **kwds)\u001b[0m\n\u001b[1;32m     55\u001b[0m \u001b[0;34m\u001b[0m\u001b[0m\n\u001b[1;32m     56\u001b[0m     \u001b[0;32mtry\u001b[0m\u001b[0;34m:\u001b[0m\u001b[0;34m\u001b[0m\u001b[0;34m\u001b[0m\u001b[0m\n\u001b[0;32m---> 57\u001b[0;31m         \u001b[0;32mreturn\u001b[0m \u001b[0mbound\u001b[0m\u001b[0;34m(\u001b[0m\u001b[0;34m*\u001b[0m\u001b[0margs\u001b[0m\u001b[0;34m,\u001b[0m \u001b[0;34m**\u001b[0m\u001b[0mkwds\u001b[0m\u001b[0;34m)\u001b[0m\u001b[0;34m\u001b[0m\u001b[0;34m\u001b[0m\u001b[0m\n\u001b[0m\u001b[1;32m     58\u001b[0m     \u001b[0;32mexcept\u001b[0m \u001b[0mTypeError\u001b[0m\u001b[0;34m:\u001b[0m\u001b[0;34m\u001b[0m\u001b[0;34m\u001b[0m\u001b[0m\n\u001b[1;32m     59\u001b[0m         \u001b[0;31m# A TypeError occurs if the object does have such a method in its\u001b[0m\u001b[0;34m\u001b[0m\u001b[0;34m\u001b[0m\u001b[0;34m\u001b[0m\u001b[0m\n",
      "\u001b[0;31mValueError\u001b[0m: cannot reshape array of size 4704000 into shape (10000,28,28)"
     ]
    }
   ],
   "source": [
    "images_plot = np.reshape(images_test, (10000,28,28))"
   ]
  },
  {
   "cell_type": "markdown",
   "metadata": {
    "id": "cC-pBGEd5X9V"
   },
   "source": [
    "The image to be displayed and tested"
   ]
  },
  {
   "cell_type": "code",
   "execution_count": null,
   "metadata": {
    "id": "U93aOYZT7Qgr"
   },
   "outputs": [],
   "source": [
    "i = 1\n",
    "plt.figures(figsize=(2,2))\n",
    "plt.axis('off')\n",
    "plt.imshow(images_plot[i-1],cmap='gray', aspect=\"auto\")\n",
    "plt.show\n",
    "print(\"Label: {}\".format(labels_test[i-1]))"
   ]
  },
  {
   "cell_type": "markdown",
   "metadata": {
    "id": "Wv_7_Ovi8TNH"
   },
   "source": [
    "Obtain the model's prediction (logits)"
   ]
  },
  {
   "cell_type": "code",
   "execution_count": null,
   "metadata": {
    "id": "q2NBZgHX8SDu"
   },
   "outputs": [],
   "source": [
    "predictions = model.predict(images_test[i+1:i])\n",
    "probabilities = tf.nn,softmax"
   ]
  },
  {
   "cell_type": "code",
   "execution_count": null,
   "metadata": {
    "id": "ZUxVaa6WUIuD"
   },
   "outputs": [],
   "source": []
  },
  {
   "cell_type": "markdown",
   "metadata": {
    "id": "XZYLZefaUIDB"
   },
   "source": [
    "# Visualizing in tensorboard"
   ]
  },
  {
   "cell_type": "code",
   "execution_count": null,
   "metadata": {
    "id": "B4G1nKZXURJv"
   },
   "outputs": [],
   "source": [
    "%load_ext tensorboard\n",
    "%tensorboard --logdir \"logs/dir\""
   ]
  }
 ],
 "metadata": {
  "accelerator": "GPU",
  "colab": {
   "authorship_tag": "ABX9TyNSzu8q1jPnLb5jSqa4fjee",
   "provenance": []
  },
  "gpuClass": "standard",
  "kernelspec": {
   "display_name": "Python 3 (ipykernel)",
   "language": "python",
   "name": "python3"
  },
  "language_info": {
   "codemirror_mode": {
    "name": "ipython",
    "version": 3
   },
   "file_extension": ".py",
   "mimetype": "text/x-python",
   "name": "python",
   "nbconvert_exporter": "python",
   "pygments_lexer": "ipython3",
   "version": "3.9.7"
  },
  "widgets": {
   "application/vnd.jupyter.widget-state+json": {
    "2776b7c6667d4f228ca99a44915da6ba": {
     "model_module": "@jupyter-widgets/base",
     "model_module_version": "1.2.0",
     "model_name": "LayoutModel",
     "state": {
      "_model_module": "@jupyter-widgets/base",
      "_model_module_version": "1.2.0",
      "_model_name": "LayoutModel",
      "_view_count": null,
      "_view_module": "@jupyter-widgets/base",
      "_view_module_version": "1.2.0",
      "_view_name": "LayoutView",
      "align_content": null,
      "align_items": null,
      "align_self": null,
      "border": null,
      "bottom": null,
      "display": null,
      "flex": null,
      "flex_flow": null,
      "grid_area": null,
      "grid_auto_columns": null,
      "grid_auto_flow": null,
      "grid_auto_rows": null,
      "grid_column": null,
      "grid_gap": null,
      "grid_row": null,
      "grid_template_areas": null,
      "grid_template_columns": null,
      "grid_template_rows": null,
      "height": null,
      "justify_content": null,
      "justify_items": null,
      "left": null,
      "margin": null,
      "max_height": null,
      "max_width": null,
      "min_height": null,
      "min_width": null,
      "object_fit": null,
      "object_position": null,
      "order": null,
      "overflow": null,
      "overflow_x": null,
      "overflow_y": null,
      "padding": null,
      "right": null,
      "top": null,
      "visibility": null,
      "width": null
     }
    },
    "319f09a3c255420fa7b7b1a5ab4d126d": {
     "model_module": "@jupyter-widgets/controls",
     "model_module_version": "1.5.0",
     "model_name": "HTMLModel",
     "state": {
      "_dom_classes": [],
      "_model_module": "@jupyter-widgets/controls",
      "_model_module_version": "1.5.0",
      "_model_name": "HTMLModel",
      "_view_count": null,
      "_view_module": "@jupyter-widgets/controls",
      "_view_module_version": "1.5.0",
      "_view_name": "HTMLView",
      "description": "",
      "description_tooltip": null,
      "layout": "IPY_MODEL_6cde8879fd1742e1aa6db04ad7fe297f",
      "placeholder": "​",
      "style": "IPY_MODEL_e8eb8c0e354d4ba9a31d3ea8054545c0",
      "value": " 5/5 [00:00&lt;00:00, 10.64 file/s]"
     }
    },
    "6664525f178b4ec89947a11fcec25b5f": {
     "model_module": "@jupyter-widgets/controls",
     "model_module_version": "1.5.0",
     "model_name": "HBoxModel",
     "state": {
      "_dom_classes": [],
      "_model_module": "@jupyter-widgets/controls",
      "_model_module_version": "1.5.0",
      "_model_name": "HBoxModel",
      "_view_count": null,
      "_view_module": "@jupyter-widgets/controls",
      "_view_module_version": "1.5.0",
      "_view_name": "HBoxView",
      "box_style": "",
      "children": [
       "IPY_MODEL_d85a5e3e37174af587aa52763c17bee2",
       "IPY_MODEL_f1a0428c25cb4386839da293c4a89d42",
       "IPY_MODEL_319f09a3c255420fa7b7b1a5ab4d126d"
      ],
      "layout": "IPY_MODEL_b70b33607fa8435b8d7d87e2b5c12578"
     }
    },
    "6cde8879fd1742e1aa6db04ad7fe297f": {
     "model_module": "@jupyter-widgets/base",
     "model_module_version": "1.2.0",
     "model_name": "LayoutModel",
     "state": {
      "_model_module": "@jupyter-widgets/base",
      "_model_module_version": "1.2.0",
      "_model_name": "LayoutModel",
      "_view_count": null,
      "_view_module": "@jupyter-widgets/base",
      "_view_module_version": "1.2.0",
      "_view_name": "LayoutView",
      "align_content": null,
      "align_items": null,
      "align_self": null,
      "border": null,
      "bottom": null,
      "display": null,
      "flex": null,
      "flex_flow": null,
      "grid_area": null,
      "grid_auto_columns": null,
      "grid_auto_flow": null,
      "grid_auto_rows": null,
      "grid_column": null,
      "grid_gap": null,
      "grid_row": null,
      "grid_template_areas": null,
      "grid_template_columns": null,
      "grid_template_rows": null,
      "height": null,
      "justify_content": null,
      "justify_items": null,
      "left": null,
      "margin": null,
      "max_height": null,
      "max_width": null,
      "min_height": null,
      "min_width": null,
      "object_fit": null,
      "object_position": null,
      "order": null,
      "overflow": null,
      "overflow_x": null,
      "overflow_y": null,
      "padding": null,
      "right": null,
      "top": null,
      "visibility": null,
      "width": null
     }
    },
    "89927c3fe4a84cd6aa24ea063b3d3773": {
     "model_module": "@jupyter-widgets/controls",
     "model_module_version": "1.5.0",
     "model_name": "DescriptionStyleModel",
     "state": {
      "_model_module": "@jupyter-widgets/controls",
      "_model_module_version": "1.5.0",
      "_model_name": "DescriptionStyleModel",
      "_view_count": null,
      "_view_module": "@jupyter-widgets/base",
      "_view_module_version": "1.2.0",
      "_view_name": "StyleView",
      "description_width": ""
     }
    },
    "b70b33607fa8435b8d7d87e2b5c12578": {
     "model_module": "@jupyter-widgets/base",
     "model_module_version": "1.2.0",
     "model_name": "LayoutModel",
     "state": {
      "_model_module": "@jupyter-widgets/base",
      "_model_module_version": "1.2.0",
      "_model_name": "LayoutModel",
      "_view_count": null,
      "_view_module": "@jupyter-widgets/base",
      "_view_module_version": "1.2.0",
      "_view_name": "LayoutView",
      "align_content": null,
      "align_items": null,
      "align_self": null,
      "border": null,
      "bottom": null,
      "display": null,
      "flex": null,
      "flex_flow": null,
      "grid_area": null,
      "grid_auto_columns": null,
      "grid_auto_flow": null,
      "grid_auto_rows": null,
      "grid_column": null,
      "grid_gap": null,
      "grid_row": null,
      "grid_template_areas": null,
      "grid_template_columns": null,
      "grid_template_rows": null,
      "height": null,
      "justify_content": null,
      "justify_items": null,
      "left": null,
      "margin": null,
      "max_height": null,
      "max_width": null,
      "min_height": null,
      "min_width": null,
      "object_fit": null,
      "object_position": null,
      "order": null,
      "overflow": null,
      "overflow_x": null,
      "overflow_y": null,
      "padding": null,
      "right": null,
      "top": null,
      "visibility": null,
      "width": null
     }
    },
    "c128d295868b43f6b743107cd1c4dc48": {
     "model_module": "@jupyter-widgets/base",
     "model_module_version": "1.2.0",
     "model_name": "LayoutModel",
     "state": {
      "_model_module": "@jupyter-widgets/base",
      "_model_module_version": "1.2.0",
      "_model_name": "LayoutModel",
      "_view_count": null,
      "_view_module": "@jupyter-widgets/base",
      "_view_module_version": "1.2.0",
      "_view_name": "LayoutView",
      "align_content": null,
      "align_items": null,
      "align_self": null,
      "border": null,
      "bottom": null,
      "display": null,
      "flex": null,
      "flex_flow": null,
      "grid_area": null,
      "grid_auto_columns": null,
      "grid_auto_flow": null,
      "grid_auto_rows": null,
      "grid_column": null,
      "grid_gap": null,
      "grid_row": null,
      "grid_template_areas": null,
      "grid_template_columns": null,
      "grid_template_rows": null,
      "height": null,
      "justify_content": null,
      "justify_items": null,
      "left": null,
      "margin": null,
      "max_height": null,
      "max_width": null,
      "min_height": null,
      "min_width": null,
      "object_fit": null,
      "object_position": null,
      "order": null,
      "overflow": null,
      "overflow_x": null,
      "overflow_y": null,
      "padding": null,
      "right": null,
      "top": null,
      "visibility": null,
      "width": null
     }
    },
    "d85a5e3e37174af587aa52763c17bee2": {
     "model_module": "@jupyter-widgets/controls",
     "model_module_version": "1.5.0",
     "model_name": "HTMLModel",
     "state": {
      "_dom_classes": [],
      "_model_module": "@jupyter-widgets/controls",
      "_model_module_version": "1.5.0",
      "_model_name": "HTMLModel",
      "_view_count": null,
      "_view_module": "@jupyter-widgets/controls",
      "_view_module_version": "1.5.0",
      "_view_name": "HTMLView",
      "description": "",
      "description_tooltip": null,
      "layout": "IPY_MODEL_2776b7c6667d4f228ca99a44915da6ba",
      "placeholder": "​",
      "style": "IPY_MODEL_89927c3fe4a84cd6aa24ea063b3d3773",
      "value": "Dl Completed...: 100%"
     }
    },
    "e8eb8c0e354d4ba9a31d3ea8054545c0": {
     "model_module": "@jupyter-widgets/controls",
     "model_module_version": "1.5.0",
     "model_name": "DescriptionStyleModel",
     "state": {
      "_model_module": "@jupyter-widgets/controls",
      "_model_module_version": "1.5.0",
      "_model_name": "DescriptionStyleModel",
      "_view_count": null,
      "_view_module": "@jupyter-widgets/base",
      "_view_module_version": "1.2.0",
      "_view_name": "StyleView",
      "description_width": ""
     }
    },
    "f1a0428c25cb4386839da293c4a89d42": {
     "model_module": "@jupyter-widgets/controls",
     "model_module_version": "1.5.0",
     "model_name": "FloatProgressModel",
     "state": {
      "_dom_classes": [],
      "_model_module": "@jupyter-widgets/controls",
      "_model_module_version": "1.5.0",
      "_model_name": "FloatProgressModel",
      "_view_count": null,
      "_view_module": "@jupyter-widgets/controls",
      "_view_module_version": "1.5.0",
      "_view_name": "ProgressView",
      "bar_style": "success",
      "description": "",
      "description_tooltip": null,
      "layout": "IPY_MODEL_c128d295868b43f6b743107cd1c4dc48",
      "max": 5,
      "min": 0,
      "orientation": "horizontal",
      "style": "IPY_MODEL_f8c1d3985e3b49c7bee588ca047187a3",
      "value": 5
     }
    },
    "f8c1d3985e3b49c7bee588ca047187a3": {
     "model_module": "@jupyter-widgets/controls",
     "model_module_version": "1.5.0",
     "model_name": "ProgressStyleModel",
     "state": {
      "_model_module": "@jupyter-widgets/controls",
      "_model_module_version": "1.5.0",
      "_model_name": "ProgressStyleModel",
      "_view_count": null,
      "_view_module": "@jupyter-widgets/base",
      "_view_module_version": "1.2.0",
      "_view_name": "StyleView",
      "bar_color": null,
      "description_width": ""
     }
    }
   }
  }
 },
 "nbformat": 4,
 "nbformat_minor": 1
}
